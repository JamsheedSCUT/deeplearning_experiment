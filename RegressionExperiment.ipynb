{
 "cells": [
  {
   "cell_type": "code",
   "execution_count": 1,
   "metadata": {},
   "outputs": [
    {
     "name": "stdout",
     "output_type": "stream",
     "text": [
      "[[-0.998746 -0.2      -0.942082 ...,  0.510638  1.       -0.765453]\n",
      " [-0.998104 -0.1      -0.781525 ..., -0.446809  0.903071 -0.814018]\n",
      " [-0.869221 -1.        0.293255 ...,  0.617021  1.       -0.502759]\n",
      " ..., \n",
      " [-0.999344  0.6      -0.766862 ..., -0.191489  0.991326 -0.584989]\n",
      " [-0.996375 -1.       -0.492669 ...,  0.489362  1.       -0.698124]\n",
      " [-0.992475 -1.       -0.492669 ...,  0.489362  1.       -0.757726]]\n",
      "[ 22.9  37.   23.   11.7  12.1  13.9  23.4  32.2  21.7  19.9  17.8  21.7\n",
      "  23.6  16.5  18.   16.2  17.5  27.9  22.9  22.8  18.9  23.8  19.4  18.8\n",
      "  27.   16.8  20.4  14.3  26.6  27.5  11.8  18.5  24.6  25.   15.6  18.2\n",
      "  20.7  13.1  20.3  21.9  11.9  21.2  16.1  20.8  34.9  18.9  30.8  15.6\n",
      "  23.7  44.8  14.5  14.6  14.9  23.8  18.7  19.4  20.4  28.   32.   24.7\n",
      "  18.5  12.6  21.2  16.5  17.1  24.5  17.   19.4  18.6  28.4   8.4  19.9\n",
      "  26.4  13.8  23.6  27.5  42.8  29.8  20.8  43.5  22.6  29.1  20.1  20.\n",
      "  50.   24.1  20.3  13.3  50.   29.   50.   14.5  24.8  46.   33.2  17.5\n",
      "  13.1  17.1  17.8  24.3  15.   13.1  24.1  33.4  23.9  20.6  26.7  28.5\n",
      "  25.3  20.5  13.4  22.5  11.   30.3  20.1  10.5  32.9  50.   17.3   8.3\n",
      "  14.9  32.4  22.   22.7  19.6  13.1  14.2  20.1  22.4  35.4  22.2  19.1\n",
      "  23.9  21.9  23.   22.6  36.2  13.5  16.7  36.4  36.5  20.7  28.7  20.\n",
      "  23.2   9.5  25.   24.4  19.8  24.4  11.8  34.6  19.4  22.5  17.7  10.5\n",
      "  11.3  34.9  26.6  22.9  18.2  32.7  13.3  13.6  23.1  10.9  48.8  14.5\n",
      "  45.4  24.2  19.1   7.4  35.1  15.6  25.   19.5  14.1  21.2  10.8  33.2\n",
      "  16.   27.1  50.   50.   19.8  41.7  19.6  28.1  15.2  15.   24.4  20.4\n",
      "  16.3  27.5  22.3  20.2  30.1   7.5  36.2  20.1  33.1  23.9  19.8  18.1\n",
      "  21.4  18.4  13.9  16.1   9.6  36.1   8.8  23.4  50.   17.8  42.3  13.2\n",
      "  29.4  29.6  23.3  50.   12.   22.   27.9  23.   13.8  31.6  29.1  17.1\n",
      "  13.5  23.1  13.   28.7  20.   10.2  11.7  12.3  37.3  22.   23.9   7.\n",
      "  21.9  13.4  23.1  32.   13.8  28.2  23.1  23.3  33.1  28.4  20.9  23.8\n",
      "  25. ]\n"
     ]
    },
    {
     "data": {
      "image/png": "[encoded data removed]",
      "text/plain": [
       "<matplotlib.figure.Figure at 0x7fd01c158fd0>"
      ]
     },
     "metadata": {},
     "output_type": "display_data"
    }
   ],
   "source": [
    "from sklearn.datasets import load_svmlight_file\n",
    "from sklearn.model_selection import train_test_split\n",
    "import matplotlib.pyplot as plt\n",
    "\n",
    "alpha = 0.01\n",
    "iteration = 100\n",
    "accuracy = 0.001\n",
    "\n",
    "m = 506\n",
    "m_train = 203\n",
    "d_test = 203\n",
    "feature = 13\n",
    "theta = [0, 0, 0, 0, 0, 0, 0, 0, 0, 0, 0, 0, 0, 0]\n",
    "\n",
    "iter_num = [1] * iteration\n",
    "loss_train = [1] * iteration\n",
    "loss_test = [1] * iteration\n",
    "\n",
    "#read Dataset\n",
    "def get_data():\n",
    "    data = load_svmlight_file(\"housing_scale\", n_features=13)\n",
    "    return data[0], data[1]\n",
    "\n",
    "X, y = get_data()\n",
    "X = X.toarray()\n",
    "#divide dataset into train dataset and test dataset\n",
    "X_train, X_test, y_train, y_test = train_test_split(X, y, test_size=0.5, random_state=43)\n",
    "print(X_train)\n",
    "print(y_train)\n",
    "\n",
    "#hypothesis\n",
    "def hypothesis(x):\n",
    "    result = theta[0]\n",
    "    for i in range(0, feature):\n",
    "        result = result + theta[i + 1] * x[i]\n",
    "    return result\n",
    "\n",
    "#lossfunction\n",
    "def loss(m, X, y):\n",
    "    sum = 0\n",
    "    for i in range(0, m):\n",
    "        sum = sum + (hypothesis(X[i]) - y[i]) ** 2\n",
    "    sum = sum / (2 * m)\n",
    "    return sum\n",
    "\n",
    "#gradient\n",
    "def gradient(j, m, X, y):\n",
    "    sum = 0\n",
    "    if (j == 0):\n",
    "        for i in range(0, m):\n",
    "            sum = sum + (hypothesis(X[i]) - y[i])\n",
    "    else:\n",
    "        for i in range(0, m):\n",
    "            sum = sum + (hypothesis(X[i]) - y[i]) * X[i][j - 1]\n",
    "        sum = sum / m\n",
    "    return sum\n",
    "\n",
    "#train regression model\n",
    "def train():\n",
    "    for i in range(0, iteration):\n",
    "        for j in range(0, feature + 1):\n",
    "            theta[j] = theta[j] - alpha * gradient(j, m_train, X_train, y_train)\n",
    "        iter_num[i] = i;\n",
    "        loss_train[i] = loss(m_train, X_train, y_train);\n",
    "        loss_test[i] = loss(d_test, X_test, y_test);\n",
    "\n",
    "train()\n",
    "\n",
    "fig, ax = plt.subplots()\n",
    "ax.plot(iter_num, loss_train, color='m', label='loss of train')\n",
    "ax.plot(iter_num, loss_test, color='c', label='loss of test')\n",
    "\n",
    "ax.set_xlabel('Iteration times')\n",
    "ax.set_ylabel('loss')\n",
    "plt.xticks(iter_num, rotation=0)\n",
    "plt.show()"
   ]
  },
  {
   "cell_type": "code",
   "execution_count": null,
   "metadata": {
    "collapsed": true
   },
   "outputs": [],
   "source": []
  }
 ],
 "metadata": {
  "kernelspec": {
   "display_name": "Python 3",
   "language": "python",
   "name": "python3"
  },
  "language_info": {
   "codemirror_mode": {
    "name": "ipython",
    "version": 3
   },
   "file_extension": ".py",
   "mimetype": "text/x-python",
   "name": "python",
   "nbconvert_exporter": "python",
   "pygments_lexer": "ipython3",
   "version": "3.6.1"
  }
 },
 "nbformat": 4,
 "nbformat_minor": 2
}
